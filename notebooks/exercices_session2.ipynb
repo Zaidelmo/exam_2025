{
  "cells": [
    {
      "cell_type": "markdown",
      "metadata": {
        "id": "_CACBFsndOCo"
      },
      "source": [
        "# Exercices"
      ]
    },
    {
      "cell_type": "markdown",
      "source": [
        "## **Préliminaires**: Clone de votre repo et imports"
      ],
      "metadata": {
        "id": "hfkMtaHleKAa"
      }
    },
    {
      "cell_type": "code",
      "source": [
        "! git clone https://github.com/XXXXXXX/exam_2025_session2.git\n",
        "! cp exam_2025_session2/utils/utils_exercices.py .\n",
        "\n",
        "import copy\n",
        "import numpy as np\n",
        "import torch"
      ],
      "metadata": {
        "id": "xiD_cI-geJjI",
        "outputId": "e5678ea5-b056-4d32-8da0-16abef898526",
        "colab": {
          "base_uri": "https://localhost:8080/"
        }
      },
      "execution_count": 3,
      "outputs": [
        {
          "output_type": "stream",
          "name": "stdout",
          "text": [
            "Cloning into 'exam_2025_session2'...\n",
            "fatal: could not read Username for 'https://github.com': No such device or address\n",
            "cp: cannot stat 'exam_2025_session2/utils/utils_exercices.py': No such file or directory\n"
          ]
        }
      ]
    },
    {
      "cell_type": "markdown",
      "source": [
        "**Clef personnelle pour les exercices**\n",
        "\n",
        "Dans la cellule suivante, choisir un entier entre 100 et 1000 (il doit être personnel). Cet entier servira de graine au générateur de nombres aléatoire a conserver pour tous les exercices.\n",
        "\n"
      ],
      "metadata": {
        "id": "J3ga_6BNc5DR"
      }
    },
    {
      "cell_type": "code",
      "source": [
        "mySeed = 200"
      ],
      "metadata": {
        "id": "PrCTHM4od5UZ"
      },
      "execution_count": 4,
      "outputs": []
    },
    {
      "cell_type": "markdown",
      "source": [
        "\\\n",
        "\n",
        "---\n",
        "\n",
        "\\"
      ],
      "metadata": {
        "id": "TRWBLVpCWC06"
      }
    },
    {
      "cell_type": "markdown",
      "source": [
        "\\\n",
        "\n",
        "**Exercice 1** *Une segmentation dans un contexte faiblement supervisé*\n",
        "\n",
        "La fonction *gen_dr* fournit permet de synthétiser des disques mêlés à des rectangles. Ici, les disques sont considérés comme du bruit, et le processus de corruption non en une somme (image = image_disques + image_rectangles) mais en une substitution (voir ci-dessous).\n",
        "Elle fournit aussi une cible idéale, qui, en pratique, n'est pas dipsonible.\n"
      ],
      "metadata": {
        "id": "C_Op6m7bEm-c"
      }
    },
    {
      "cell_type": "code",
      "source": [
        "def gen_dr(n, mySeed):\n",
        "  discs = make_batch(n, rec = 0., noisy_rec= 0., disc = 0.001)\n",
        "  rectangles = make_batch(n, rec = 0.003, noisy_rec= 0., disc = 0.)\n",
        "\n",
        "  rectangles[discs > 0 ] = discs[discs > 0]\n",
        "  target = m\n",
        "  return  input, ideal_targets\n"
      ],
      "metadata": {
        "id": "A7K47MNIHtAa"
      },
      "execution_count": null,
      "outputs": []
    },
    {
      "cell_type": "markdown",
      "source": [
        "On dispose aussi d'une fonction *gen_d* qui synthétise des images comportant des disques :"
      ],
      "metadata": {
        "id": "8a4QTfbzGx9S"
      }
    },
    {
      "cell_type": "markdown",
      "source": [
        "**Q1** Rappeler ce qu'est la supervision faible. En quoi ce problème peut-il entrer dans cette catégorie ?"
      ],
      "metadata": {
        "id": "F3ZwckMqGBjq"
      }
    },
    {
      "cell_type": "markdown",
      "source": [
        "**Q2** Utiliser un UNet pour dire, pour une image produite par gen_dr, où sont les pixels qui étaient affectés par des rectangles **avant** corruption. Entraînez-le sur une cinquantaine d'époques. Utilisez la cible idéale pour contrôler la convergence. Visualiser quelques sorties après entraînement."
      ],
      "metadata": {
        "id": "2g3XFOz_GILS"
      }
    },
    {
      "cell_type": "markdown",
      "metadata": {
        "id": "t5RcggmAkJLV"
      },
      "source": [
        "\\\n",
        "\n",
        "**Exercice 2** *Une régression quantile*\n",
        "\n",
        "La fonction *gen* fournit permet de synthétiser des entrées / cibles à la volée :  \n",
        "\n",
        "\n"
      ]
    },
    {
      "cell_type": "code",
      "source": [
        "! git clone https://github.com/nanopiero/ML_S5_etudiants\n",
        "import sys\n",
        "sys.path.append('ML_S5_etudiants/practicals/P5')\n",
        "from utils_P5 import gen_proba, voir_batch2D, UNet\n",
        "from utils_P5 import make_batch\n",
        "def gen_ex2(n):\n",
        "  target1 = make_batch(n, rec = 0., noisy_rec= 0., disc = 0.0015)\n",
        "  target2 = make_batch(n, rec = 0.0015, noisy_rec= 0.0015, disc = 0.)\n",
        "  m = torch.normal(target1.mean(), 1)\n",
        "  input = target1 + target2\n",
        "  target = m\n",
        "  return  input, target\n",
        "\n",
        "\n",
        "# sampling (x,y) :\n",
        "\n",
        "input, target = gen_ex2(6, mySeed)\n",
        "# Inputs\n",
        "fig0 = plt.figure(0, figsize=(36, 6))\n",
        "voir_batch2D(input, 6, fig0, k=0, min_scale=0,max_scale=1)\n",
        "\n",
        "# Targets\n",
        "print(targets)"
      ],
      "metadata": {
        "id": "kUMjPeyG7yBX"
      },
      "execution_count": null,
      "outputs": []
    },
    {
      "cell_type": "markdown",
      "source": [
        "**Q1** Définir un Loader à partir du Dataset précédent (2 workers)"
      ],
      "metadata": {
        "id": "q5XZTrXNk12K"
      }
    },
    {
      "cell_type": "markdown",
      "source": [],
      "metadata": {
        "id": "MXGXg8tlPULY"
      }
    },
    {
      "cell_type": "markdown",
      "source": [
        "**Q2** Entraîner un ResNet18 à prédire la médiane conditionnelle à l'image d'entrée."
      ],
      "metadata": {
        "id": "CH_Z5ZEIlQPE"
      }
    },
    {
      "cell_type": "markdown",
      "source": [
        "**Q3** Modifier votre ResNet18 de manière à prédire aussi les premier et troisième quartiles. L'écart interquartile dépend-il de l'image d'entrée ?"
      ],
      "metadata": {
        "id": "g6BSTBitpGBD"
      }
    },
    {
      "cell_type": "markdown",
      "source": [
        "**Q4 (Bonus)** On fait l'hypothèse que la sortie ne dépend que des disques. On suppose aussi qu'on ait accès, comme à l'exercice 1 à un jeu de données d'images ne comportant que des disques. Que feriez-vous pour tester cette hypothèse ? Rpondez sans code, mais avec précision."
      ],
      "metadata": {
        "id": "OZwKogEEp2Fr"
      }
    },
    {
      "cell_type": "markdown",
      "source": [
        "\\\n",
        "\n",
        "---\n",
        "\n",
        "\\"
      ],
      "metadata": {
        "id": "VvV2jIrBNtzf"
      }
    },
    {
      "cell_type": "markdown",
      "source": [
        "**Exercice 3** *Domain shift et nettoyage.*"
      ],
      "metadata": {
        "id": "CpRvXCaAtsIN"
      }
    },
    {
      "cell_type": "markdown",
      "source": [
        "\\\n",
        "\n",
        "---\n",
        "\n",
        "\\"
      ],
      "metadata": {
        "id": "qV52tusgNn6A"
      }
    },
    {
      "cell_type": "markdown",
      "source": [
        "**Exercice 4** Un article important"
      ],
      "metadata": {
        "id": "Gp9IVzoVL2Nz"
      }
    }
  ],
  "metadata": {
    "colab": {
      "provenance": []
    },
    "kernelspec": {
      "display_name": "Python 3",
      "name": "python3"
    }
  },
  "nbformat": 4,
  "nbformat_minor": 0
}